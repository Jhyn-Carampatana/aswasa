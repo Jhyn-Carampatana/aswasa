{
 "cells": [
  {
   "cell_type": "markdown",
   "id": "a88c224f-b528-4513-b704-6a68ddcb2bc1",
   "metadata": {},
   "source": [
    "# TUPLE, LISTS, AND DICTIONARIES # "
   ]
  },
  {
   "cell_type": "markdown",
   "id": "ec4daeaa-53e1-4c5a-99f3-95fa0a9383c8",
   "metadata": {},
   "source": [
    "# REVIEW QUESTION 1 #"
   ]
  },
  {
   "cell_type": "code",
   "execution_count": 2,
   "id": "2951d986-2733-4011-aa77-70bd9342aec8",
   "metadata": {},
   "outputs": [
    {
     "name": "stdout",
     "output_type": "stream",
     "text": [
      "FIRST\n",
      "SECOND\n",
      "THIRD\n"
     ]
    }
   ],
   "source": [
    "# Q1\n",
    "CARDINAL_NUMBERS = (\"FIRST\", \"SECOND\",\"THIRD\")\n",
    "print(CARDINAL_NUMBERS[0])\n",
    "print(CARDINAL_NUMBERS[1])\n",
    "print(CARDINAL_NUMBERS[2])"
   ]
  },
  {
   "cell_type": "code",
   "execution_count": 3,
   "id": "8c044c09-1796-4180-9782-88d442afb05a",
   "metadata": {},
   "outputs": [
    {
     "name": "stdout",
     "output_type": "stream",
     "text": [
      "SECOND\n"
     ]
    }
   ],
   "source": [
    "CARDINAL_NUMBERS = (\"FIRST\", \"SECOND\",\"THIRD\")\n",
    "print(CARDINAL_NUMBERS[1])"
   ]
  },
  {
   "cell_type": "code",
   "execution_count": 7,
   "id": "ee9d5f38-2c6d-4522-808e-fcc2f889e877",
   "metadata": {},
   "outputs": [
    {
     "name": "stdout",
     "output_type": "stream",
     "text": [
      "FIRST\n",
      "SECOND\n",
      "THIRD\n"
     ]
    }
   ],
   "source": [
    "CARDINAL_NUMBERS = (\"FIRST\", \"SECOND\",\"THIRD\")\n",
    "position1, position2, position3 = CARDINAL_NUMBERS\n",
    "print(position1)\n",
    "print(position2)\n",
    "print(position3)"
   ]
  },
  {
   "cell_type": "code",
   "execution_count": 11,
   "id": "a25df7e3-5cbb-428e-b96c-dd3af662db9e",
   "metadata": {},
   "outputs": [
    {
     "name": "stdout",
     "output_type": "stream",
     "text": [
      "('C', 'H', 'E', 'S', 'T', 'E', 'R')\n"
     ]
    }
   ],
   "source": [
    "my_name = tuple(\"Chester\")\n",
    "print(my_name)"
   ]
  },
  {
   "cell_type": "code",
   "execution_count": 15,
   "id": "60fe4546-2ec9-441d-a0cc-9e676353db89",
   "metadata": {},
   "outputs": [
    {
     "name": "stdout",
     "output_type": "stream",
     "text": [
      "X is not in my_name\n"
     ]
    }
   ],
   "source": [
    "my_name = tuple(\"Chester\")\n",
    "if \"X\" in my_name:\n",
    "    print(\"X is in my_name\")\n",
    "else:\n",
    "    print(\"X is not in my_name\")"
   ]
  },
  {
   "cell_type": "code",
   "execution_count": 19,
   "id": "f78d5e57-0a55-4f37-a651-0ea3ebaeb4f7",
   "metadata": {},
   "outputs": [
    {
     "name": "stdout",
     "output_type": "stream",
     "text": [
      "('C', 'H', 'E', 'S')\n"
     ]
    }
   ],
   "source": [
    "my_name = tuple(\"Chester\")\n",
    "new_tuple = my_name[0:4]\n",
    "print(new_tuple)"
   ]
  },
  {
   "cell_type": "markdown",
   "id": "49dae7c7-53d5-461b-a1d3-30aa86585086",
   "metadata": {},
   "source": [
    "# REVIEW QUESTION 2 #"
   ]
  },
  {
   "cell_type": "code",
   "execution_count": 20,
   "id": "8a703937-226e-4afe-8923-99c7db2b60ff",
   "metadata": {},
   "outputs": [
    {
     "name": "stdout",
     "output_type": "stream",
     "text": [
      "['rice', 'beans']\n"
     ]
    }
   ],
   "source": [
    "food = [\"rice\", \"beans\"]\n",
    "print(food)"
   ]
  },
  {
   "cell_type": "code",
   "execution_count": 21,
   "id": "67bb6472-dff6-4493-8ecd-fd026b8ed5bd",
   "metadata": {},
   "outputs": [
    {
     "name": "stdout",
     "output_type": "stream",
     "text": [
      "['rice', 'beans', 'broccoli']\n"
     ]
    }
   ],
   "source": [
    "food = [\"rice\", \"beans\"]\n",
    "food.append(\"broccoli\")\n",
    "print(food)"
   ]
  },
  {
   "cell_type": "code",
   "execution_count": 22,
   "id": "702657dd-de88-45ec-82cb-f0d5c96967d7",
   "metadata": {},
   "outputs": [
    {
     "name": "stdout",
     "output_type": "stream",
     "text": [
      "['rice', 'beans', 'broccoli', 'bread', 'pizza']\n"
     ]
    }
   ],
   "source": [
    "food = [\"rice\", \"beans\", \"broccoli\"]\n",
    "food.extend([\"bread\", \"pizza\"])\n",
    "print(food)"
   ]
  },
  {
   "cell_type": "code",
   "execution_count": 25,
   "id": "cd38e491-9234-4a65-8aca-74a4b26d074e",
   "metadata": {},
   "outputs": [
    {
     "name": "stdout",
     "output_type": "stream",
     "text": [
      "['rice', 'beans']\n"
     ]
    }
   ],
   "source": [
    "food = [\"rice\", \"beans\", \"broccoli\"]\n",
    "print(food[:2])"
   ]
  },
  {
   "cell_type": "code",
   "execution_count": 26,
   "id": "f98f845d-64e9-4696-b5d6-5a59b2906b1a",
   "metadata": {},
   "outputs": [
    {
     "name": "stdout",
     "output_type": "stream",
     "text": [
      "broccoli\n"
     ]
    }
   ],
   "source": [
    "food = [\"rice\", \"beans\", \"broccoli\"]\n",
    "print(food[-1])"
   ]
  },
  {
   "cell_type": "code",
   "execution_count": 35,
   "id": "c2552ec8-b594-49fe-8fac-ddfbd5b356a3",
   "metadata": {},
   "outputs": [
    {
     "name": "stdout",
     "output_type": "stream",
     "text": [
      "['eggs', 'fruit', 'orange juice']\n"
     ]
    }
   ],
   "source": [
    "Breakfast = \"eggs, fruit, orange juice\".split(\", \")\n",
    "print(breakfast)"
   ]
  },
  {
   "cell_type": "code",
   "execution_count": 33,
   "id": "deabd7bc-4d89-4a32-b91f-723f9b898366",
   "metadata": {},
   "outputs": [
    {
     "name": "stdout",
     "output_type": "stream",
     "text": [
      "Number of items in Breakfast 3\n"
     ]
    }
   ],
   "source": [
    "Breakfast = \"eggs, fruit, orange juice\".split(\", \")\n",
    "count = len(Breakfast)\n",
    "print(\"Number of items in Breakfast\", count)"
   ]
  },
  {
   "cell_type": "code",
   "execution_count": 34,
   "id": "f2ca3e06-2a2f-4676-9ccb-c4733c8d2ed6",
   "metadata": {},
   "outputs": [
    {
     "name": "stdout",
     "output_type": "stream",
     "text": [
      "[4, 5, 12]\n"
     ]
    }
   ],
   "source": [
    "Breakfast = ['eggs', 'fruit', 'orange juice']\n",
    "length = [len(item) for item in Breakfast]\n",
    "print(length)"
   ]
  },
  {
   "cell_type": "markdown",
   "id": "38a4ecfe-aeb1-485b-82ad-9a2ca16a4f9a",
   "metadata": {},
   "source": [
    "# REVIEW QUESTION 3 #"
   ]
  },
  {
   "cell_type": "code",
   "execution_count": 36,
   "id": "c1984dd9-7a42-4a03-86c3-fca77063e960",
   "metadata": {},
   "outputs": [
    {
     "name": "stdout",
     "output_type": "stream",
     "text": [
      "((1, 2), (3, 4))\n"
     ]
    }
   ],
   "source": [
    "data = ((1,2), (3,4))\n",
    "print(data)"
   ]
  },
  {
   "cell_type": "code",
   "execution_count": 43,
   "id": "9fa5612b-99a7-4c40-880d-ac5f8caa3691",
   "metadata": {},
   "outputs": [
    {
     "name": "stdout",
     "output_type": "stream",
     "text": [
      "row 1 sum: 3\n",
      "row 2 sum: 7\n"
     ]
    }
   ],
   "source": [
    "data = ((1,2), (3,4))\n",
    "for i, nested_tuple in enumerate(data, start = 1):\n",
    "    row_sum = sum(nested_tuple)\n",
    "    print(f\"row {i} sum: {row_sum}\")"
   ]
  },
  {
   "cell_type": "code",
   "execution_count": 44,
   "id": "7c424c8c-48b0-4a3a-a012-6981072b8b6a",
   "metadata": {},
   "outputs": [
    {
     "name": "stdout",
     "output_type": "stream",
     "text": [
      "('1', '2', '3', '4', '5')\n"
     ]
    }
   ],
   "source": [
    "numbers = (\"1\", \"2\", \"3\", \"4\", \"5\")\n",
    "numbers_copy = numbers[:]\n",
    "print(numbers_copy)"
   ]
  },
  {
   "cell_type": "code",
   "execution_count": 53,
   "id": "09a2f84e-b49e-4b62-a55c-9f44bc9ac2b8",
   "metadata": {},
   "outputs": [
    {
     "name": "stdout",
     "output_type": "stream",
     "text": [
      "[1, 2, 5, 7, 9]\n"
     ]
    }
   ],
   "source": [
    "NUMBERS = [5, 2, 9, 1, 7]\n",
    "NUMBERS.sort()\n",
    "print(NUMBERS)"
   ]
  },
  {
   "cell_type": "markdown",
   "id": "1f9a961a-5c93-42d1-80e1-75cb72c2d9c4",
   "metadata": {},
   "source": [
    "### CHALLENGE: LIST OF LISTS "
   ]
  },
  {
   "cell_type": "code",
   "execution_count": 54,
   "id": "f5bd8716-2944-4f4d-8419-e412d3195d4d",
   "metadata": {},
   "outputs": [
    {
     "name": "stdout",
     "output_type": "stream",
     "text": [
      "['California Institute of Technology', 2175, 37704]\n",
      "['Harvard', 19627, 39849]\n",
      "['Massachusetts Institute of Technology', 10566, 40732]\n",
      "['Princeton', 7802, 37000]\n",
      "['Rice', 5879, 35551]\n",
      "['Stanford', 19535, 40569]\n",
      "['Yale', 11701, 40500]\n"
     ]
    }
   ],
   "source": [
    "universities = [\n",
    "     ['California Institute of Technology', 2175, 37704],\n",
    "    ['Harvard', 19627, 39849],\n",
    "    ['Massachusetts Institute of Technology', 10566, 40732],\n",
    "    ['Princeton', 7802, 37000],\n",
    "    ['Rice', 5879, 35551],\n",
    "    ['Stanford', 19535, 40569],\n",
    "    ['Yale', 11701, 40500]\n",
    "]\n",
    "for uni in universities:\n",
    "    print(uni)"
   ]
  },
  {
   "cell_type": "markdown",
   "id": "9601f99b-a73d-43ef-aa7e-118e77ebae9d",
   "metadata": {},
   "source": [
    "### CHALLENGE: WAX OF POETIC "
   ]
  },
  {
   "cell_type": "code",
   "execution_count": 56,
   "id": "b6a2505b-35fc-4f2e-a45b-035894a6c2f0",
   "metadata": {},
   "outputs": [
    {
     "name": "stdout",
     "output_type": "stream",
     "text": [
      "Nouns: ['FOSSIL', 'HORSE', 'AARDVARK', 'JUDGE', 'CHEF', 'MANGO', 'EXTROVERT', 'GORILLA']\n",
      "Verbs: ['KICKS', 'JINGLES', 'BOUNCES', 'SLURPS', 'MEOWS', 'EXPLODES', 'CURDLES']\n",
      "Adjectives: ['FURRY', 'BALDING', 'INCREDULOUS', 'FRAGRANT', 'EXUBERANT', 'GLISTENING']\n",
      "Prepositions: ['AGAINST', 'AFTER', 'INTO', 'BENEATH', 'UPON', 'FOR', 'IN', 'LIKE', 'OVER', 'WITHIN']\n",
      "Adverbs: ['CURIOUSLY', 'FURIOUSLY', 'SENSUOUSLY', 'EXTRAVAGANTLY', 'TANTALIZINGLY']\n"
     ]
    }
   ],
   "source": [
    "nouns = [\"FOSSIL\", \"HORSE\", \"AARDVARK\", \"JUDGE\", \"CHEF\", \"MANGO\", \"EXTROVERT\", \"GORILLA\"]\n",
    "\n",
    "verbs = [\"KICKS\", \"JINGLES\", \"BOUNCES\", \"SLURPS\", \"MEOWS\", \"EXPLODES\", \"CURDLES\"]\n",
    "\n",
    "adjectives = [\"FURRY\", \"BALDING\", \"INCREDULOUS\", \"FRAGRANT\", \"EXUBERANT\", \"GLISTENING\"]\n",
    "\n",
    "prepositions = [\"AGAINST\", \"AFTER\", \"INTO\", \"BENEATH\", \"UPON\", \"FOR\", \"IN\", \"LIKE\", \"OVER\", \"WITHIN\"]\n",
    "\n",
    "adverbs = [\"CURIOUSLY\", \"FURIOUSLY\", \"SENSUOUSLY\", \"EXTRAVAGANTLY\", \"TANTALIZINGLY\"]\n",
    "\n",
    "print(\"Nouns:\", nouns)\n",
    "print(\"Verbs:\", verbs)\n",
    "print(\"Adjectives:\", adjectives)\n",
    "print(\"Prepositions:\", prepositions)\n",
    "print(\"Adverbs:\", adverbs)\n"
   ]
  },
  {
   "cell_type": "code",
   "execution_count": null,
   "id": "26e3f13c-c147-4096-869d-9eb1b393743a",
   "metadata": {},
   "outputs": [],
   "source": []
  }
 ],
 "metadata": {
  "kernelspec": {
   "display_name": "Python 3 (ipykernel)",
   "language": "python",
   "name": "python3"
  },
  "language_info": {
   "codemirror_mode": {
    "name": "ipython",
    "version": 3
   },
   "file_extension": ".py",
   "mimetype": "text/x-python",
   "name": "python",
   "nbconvert_exporter": "python",
   "pygments_lexer": "ipython3",
   "version": "3.13.5"
  }
 },
 "nbformat": 4,
 "nbformat_minor": 5
}
